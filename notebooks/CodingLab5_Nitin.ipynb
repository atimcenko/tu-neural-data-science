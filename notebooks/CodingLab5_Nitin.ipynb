{
 "cells": [
  {
   "cell_type": "markdown",
   "metadata": {},
   "source": [
    "_Neural Data Analysis_\n",
    "\n",
    "Lecturer: Prof. Dr. Philipp Berens\n",
    "\n",
    "Tutors: Jonas Beck, Ziwei Huang, Rita González Márquez\n",
    "\n",
    "Summer term 2023\n",
    "\n",
    "Name: FILL IN YOUR NAMES HERE\n",
    "\n",
    "# Coding Lab 5\n",
    "\n"
   ]
  },
  {
   "cell_type": "code",
   "execution_count": 1,
   "metadata": {},
   "outputs": [],
   "source": [
    "import matplotlib.pyplot as plt\n",
    "import numpy as np\n",
    "import scipy.optimize as opt\n",
    "import scipy.io as io\n",
    "\n",
    "%matplotlib inline\n",
    "\n",
    "plt.style.use(\"../matplotlib_style.txt\")"
   ]
  },
  {
   "cell_type": "markdown",
   "metadata": {},
   "source": [
    "## Task 1: Fit RF on simulated data\n",
    "\n",
    "We will start  with toy data generated from an LNP model neuron to make sure everything works right. The model LNP neuron consists of one Gaussian linear filter, an exponential nonlinearity and a Poisson spike count generator. We look at it in discrete time with time bins of width $\\delta t$. The model is:\n",
    "\n",
    "$$\n",
    "c_t \\sim Poisson(r_t)\\\\\n",
    "r_t = \\exp(w^T s_t) \\cdot \\Delta t \\cdot R\n",
    "$$\n",
    "\n",
    "Here, $c_t$ is the spike count in time window $t$ of length $\\Delta t$, $s_t$ is the stimulus and $w$ is the receptive field of the neuron. The receptive field variable `w` is 15 × 15 pixels and normalized to $||w||=1$. A stimulus frame is a 15 × 15 pixel image, for which we use uncorrelated checkerboard noise. R can be used to bring the firing rate into the right regime (e.g. by setting $R=50$).      \n",
    "\n",
    "For computational ease, we reformat the stimulus and the receptive field in a 225 by 1 array. The function ```sample_lnp``` can be used to generate data from this model. It returns a spike count vector `c` with samples from the model (dimensions: 1 by nT = $T/\\Delta t$), a stimulus matrix `s` (dimensions: 225 × nT) and the mean firing rate `r` (dimensions: nT × 1). \n",
    "\n",
    "Here we assume that the receptive field influences the spike count instantaneously just as in the above equations. Implement a Maximum Likelihood approach to fit the receptive field. \n",
    "\n",
    "To this end simplify and implement the log-likelihood function $L(w)$ and its gradient $\\frac{L(w)}{dw}$ with respect to $w$ (`negloglike_lnp`). The log-likelihood of the model is\n",
    "$$L(w) = \\log \\prod_t \\frac{r_t^{c_t}}{c_t!}\\exp(-r_t).$$\n",
    "\n",
    "Plot the true receptive field, a stimulus frame, the spike counts and the estimated receptive field. \n",
    "\n",
    "*Grading: 2 pts (calculations) + 3 pts (implementation)*\n"
   ]
  },
  {
   "cell_type": "markdown",
   "metadata": {},
   "source": [
    "### Calculations\n",
    "_You can add your calculations in_ $\\LaTeX$ _here_.\n",
    "\n",
    "$L(\\omega) = \\ldots$\n",
    "\n",
    "$\\frac{dL(\\omega)}{d\\omega} = \\ldots$"
   ]
  },
  {
   "cell_type": "markdown",
   "metadata": {},
   "source": [
    "$$L(w) = \\log \\prod_t \\frac{r_t^{c_t}}{c_t!}\\exp(-r_t)$$\n",
    "\n",
    "We can decompose the multiplication terms into three parts as follows:\n",
    "\n",
    "$$= \\log \\prod_t r_t^{c_t} \\cdot \\frac{1}{c_t!} \\cdot \\exp(-r_t)$$\n",
    "\n",
    "We know that $\\log(a.b) = \\log(a) + \\log(b)$, so we can write the above as follows:\n",
    "\n",
    "$$= \\sum_t (\\log r_t^{c_t} + \\log \\frac{1}{c_t!} + \\log \\exp(-r_t))$$\n",
    "\n",
    "Final answer for part one:\n",
    "\n",
    "$$\\boxed{L(w) = \\sum_t (c_t \\log r_t- \\log c_t!  - r_t )}$$\n",
    "\n"
   ]
  },
  {
   "cell_type": "markdown",
   "metadata": {},
   "source": [
    "For the part 2nd, we need to compute the gradient of the log-likelihood function with respect to $w$, i.e.,\n",
    "\n",
    "\n",
    "$$\\frac{dL(w)}{dw} = \\frac{d}{dw} (\\sum_t c_t \\log r_t - \\log c_t! - r_t) $$\n",
    "\n",
    "One important note that the derivate of $c_t$ with respect to $dw$ is zero as $c_t$ depends on the distribution of $r_t$ and $r_t$ in turn depends on $w$ but derivative of $c_t$ with respect to $w$ is not the same as the derivative of the distribution of $c_t$ with respect to $w$. So, the derivative of $c_t$ with respect to w is zero, because $c_t$ is not a function of w, but a random variable that follows a Poisson distribution with parameter $r_t$. Hence, $\\frac{dc}{dw} = 0$\n",
    "\n",
    "$$\\frac{dL(w)}{dw} = \\sum_t c_t \\frac{d}{dw} \\log r_t - 0 + \\frac{d}{dw} r_t $$\n",
    "\n",
    "We can simplify the above as:\n",
    "\n",
    "$$= \\sum_t \\left(\\frac{c_t}{r_t} - 1\\right) \\frac{dr_t}{dw}$$ \n",
    "\n",
    "This can be simplified by using the relationship $r_t = \\exp(w^T s_t) \\Delta t R $ and the derivative of this will be given as $ \\frac{dr_t}{dw} = s_t \\exp(w^T s_t) \\Delta t R$\n",
    "\n",
    "$$= \\sum_t \\left(\\frac{c_t}{(\\exp(w^T s_t) \\Delta t R} - 1\\right)  s_t \\exp(w^T s_t) \\Delta t R $$ \n",
    "\n",
    "This, can be simplified as \n",
    "\n",
    "$$= \\sum_t c_t s_t - \\exp(w^T s_t) \\Delta t R s_t $$ \n",
    "\n",
    "We know that $r_t = \\exp(w^T s_t) \\Delta t R$, hence we can simplify the above as \n",
    "\n",
    "\n",
    "$$\\boxed{\\frac{dL(w)}{dw}= \\sum_t (c_t - r_t) s_t} $$ \n",
    "\n"
   ]
  },
  {
   "cell_type": "markdown",
   "metadata": {},
   "source": [
    "### Generate data"
   ]
  },
  {
   "cell_type": "code",
   "execution_count": 2,
   "metadata": {},
   "outputs": [
    {
     "data": {
      "text/plain": [
       "Text(0.5, 1.0, 'Gaussian RF')"
      ]
     },
     "execution_count": 2,
     "metadata": {},
     "output_type": "execute_result"
    },
    {
     "data": {
      "image/png": "[encoded data removed]",
      "text/plain": [
       "<Figure size 500x500 with 1 Axes>"
      ]
     },
     "metadata": {},
     "output_type": "display_data"
    }
   ],
   "source": [
    "def gen_gauss_rf(D, width, center=(0,0)):\n",
    "    \n",
    "    sz = (D-1)/2\n",
    "    x, y = np.meshgrid(np.arange(-sz, sz + 1), np.arange(-sz, sz + 1))\n",
    "    x = x + center[0]\n",
    "    y = y + center[1]\n",
    "    w = np.exp(- (x ** 2/width + y ** 2 / width))\n",
    "    w = w / np.sum(w.flatten())\n",
    "    \n",
    "    return w\n",
    "\n",
    "w = gen_gauss_rf(15,7,(1,1))\n",
    "\n",
    "vlim = np.max(np.abs(w))\n",
    "fig, ax = plt.subplots(1,1,figsize=(5,5))\n",
    "ax.imshow(w, cmap='bwr', vmin=-vlim, vmax=vlim)\n",
    "ax.set_title('Gaussian RF')"
   ]
  },
  {
   "cell_type": "code",
   "execution_count": 3,
   "metadata": {},
   "outputs": [],
   "source": [
    "def sample_lnp(w, nT, dt, R, v):\n",
    "    \"\"\"Generate samples from an instantaneous LNP model neuron with\n",
    "    receptive field kernel w.\n",
    "\n",
    "    Parameters\n",
    "    ----------\n",
    "\n",
    "    w: np.array, (Dx * Dy, )\n",
    "        (flattened) receptive field kernel.\n",
    "\n",
    "    nT: int\n",
    "        number of time steps\n",
    "\n",
    "    dt: float\n",
    "        duration of a frame in s\n",
    "\n",
    "    R: float\n",
    "        rate parameter\n",
    "\n",
    "    v: float\n",
    "        variance of the stimulus\n",
    "\n",
    "    Returns\n",
    "    -------\n",
    "\n",
    "    c: np.array, (nT, )\n",
    "        sampled spike counts in time bins\n",
    "\n",
    "    r: np.array, (nT, )\n",
    "        mean rate in time bins\n",
    "\n",
    "    s: np.array, (Dx * Dy, nT)\n",
    "        stimulus frames used\n",
    "\n",
    "    Note\n",
    "    ----\n",
    "\n",
    "    See equations in task description above for a precise definition\n",
    "    of the individual parameters.\n",
    "\n",
    "    \"\"\"\n",
    "\n",
    "    np.random.seed(10)\n",
    "\n",
    "    # insert your code here\n",
    "\n",
    "    # ------------------------------------------------\n",
    "    # Generate samples from an instantaneous LNP model\n",
    "    # neuron with receptive field kernel w. (0.5 pts)\n",
    "    # ------------------------------------------------\n",
    "    from sklearn.datasets import make_checkerboard\n",
    "    \n",
    "    s = np.empty((225,nT))\n",
    "    for i in range(nT):\n",
    "        s1, rows, cols = make_checkerboard((15, 15),1, noise=5)\n",
    "        s[:,i] = s1.ravel()/np.linalg.norm(s1.ravel()) # Normalizing the stimulus as we did with the receptive field by diving it with the ||s||\n",
    "        \n",
    "    \n",
    "    r = np.exp(w.T@s) * dt * R\n",
    "    \n",
    "    c = np.random.poisson(r)\n",
    "    \n",
    "    \n",
    "    return c, r, s\n"
   ]
  },
  {
   "cell_type": "code",
   "execution_count": 4,
   "metadata": {},
   "outputs": [],
   "source": [
    "D = 15     # number of pixels\n",
    "nT = 1000  # number of time bins\n",
    "dt = 0.1   # bins of 100 ms\n",
    "R = 50     # firing rate in Hz \n",
    "v = 5      # stimulus variance\n",
    "\n",
    "w = gen_gauss_rf(D,7,(1,1))\n",
    "w = w.flatten()\n",
    "\n",
    "c, r, s = sample_lnp(w, nT, dt, R, v)"
   ]
  },
  {
   "cell_type": "markdown",
   "metadata": {},
   "source": [
    "Plot the responses of the cell."
   ]
  },
  {
   "cell_type": "code",
   "execution_count": 5,
   "metadata": {},
   "outputs": [
    {
     "data": {
      "text/plain": [
       "<matplotlib.colorbar.Colorbar at 0x23794f9b400>"
      ]
     },
     "execution_count": 5,
     "metadata": {},
     "output_type": "execute_result"
    },
    {
     "data": {
      "image/png": "[encoded data removed]",
      "text/plain": [
       "<Figure size 1500x400 with 1 Axes>"
      ]
     },
     "metadata": {},
     "output_type": "display_data"
    },
    {
     "data": {
      "image/png": "[encoded data removed]",
      "text/plain": [
       "<Figure size 400x400 with 2 Axes>"
      ]
     },
     "metadata": {},
     "output_type": "display_data"
    }
   ],
   "source": [
    "mosaic = [[\"Spike counts in bin of 0.1 sec\"]]\n",
    "\n",
    "fig, ax = plt.subplot_mosaic(mosaic=mosaic, figsize=(15,4))\n",
    "# --------------------------------------\n",
    "# Plot the cell's responses (0.5 points)\n",
    "# --------------------------------------\n",
    "\n",
    "time = np.arange(dt/2, nT*dt, dt) # start from dt/2 and increment by dt until 1000*dt\n",
    "\n",
    "ax[mosaic[0][0]].bar(time, c, width=dt, align='center')\n",
    "\n",
    "ax[mosaic[0][0]].set_xlabel(\"Time (sec)\")\n",
    "ax[mosaic[0][0]].set_ylabel(\"Spike Counts\")\n",
    "ax[mosaic[0][0]].set_title(mosaic[0][0])\n",
    "\n",
    "\n",
    "# plot the stimulus grid only for one frame\n",
    "mosaic = [['Stimulus for one frame']]\n",
    "fig, ax = plt.subplot_mosaic(mosaic=mosaic, figsize=(4,4))\n",
    "\n",
    "img = ax[mosaic[0][0]].imshow(s[:,0].reshape((15,15)), cmap='gray')\n",
    "ax[mosaic[0][0]].set_title(mosaic[0][0])\n",
    "fig.colorbar(img, ax=ax[mosaic[0][0]], location='right',  shrink=0.7)\n"
   ]
  },
  {
   "cell_type": "markdown",
   "metadata": {},
   "source": [
    "### Implementation \n",
    "\n",
    "Before you run your optimizer, make sure the gradient is correct. The helper function `check_grad` in `scipy.optimize` can help you do that. This package also has suitable functions for optimization. If you generate a large number of  samples, the fitted receptive field will look more similar to the true receptive field. With more samples, the optimization takes longer, however."
   ]
  },
  {
   "cell_type": "code",
   "execution_count": 6,
   "metadata": {},
   "outputs": [],
   "source": [
    "def negloglike_lnp(x, c, s, dt=0.1, R=50):\n",
    "    '''Implements the negative (!) log-likelihood of the LNP model and its\n",
    "    gradient with respect to the receptive field w.\n",
    "\n",
    "    Parameters\n",
    "    ----------\n",
    "\n",
    "    x: np.array, (Dx * Dy, )\n",
    "      current receptive field \n",
    "\n",
    "    c: np.array, (nT, )\n",
    "      spike counts \n",
    "\n",
    "    s: np.array, (Dx * Dy, nT)\n",
    "      stimulus matrix\n",
    "\n",
    "\n",
    "    Returns\n",
    "    -------\n",
    "\n",
    "    f: float\n",
    "      function value of the negative log likelihood at x\n",
    "    \n",
    "    df: np.array, (Dx * Dy, )\n",
    "      gradient of the negative log likelihood with respect to x \n",
    "    '''\n",
    "\n",
    "    # insert your code here \n",
    "\n",
    "    # ------------------------------------------------\n",
    "    # Implement the negative log-likelihood of the LNP\n",
    "    # and its gradient with respect to the receptive\n",
    "    # field `w` using the simplified equantions you\n",
    "    # calculated earlier. (0.5 pts)\n",
    "    # ------------------------------------------------\n",
    "    \n",
    "    from scipy.special import factorial\n",
    "        \n",
    "    r = np.exp(x.T@s) * dt * R\n",
    "    \n",
    "    f = -np.sum(c*np.log(r) - np.log(factorial(c)) - r)\n",
    "        \n",
    "    df = -(c - r)@s.T\n",
    "\n",
    "    return f, df\n"
   ]
  },
  {
   "cell_type": "markdown",
   "metadata": {},
   "source": [
    "Fit receptive field maximizing the log likelihood"
   ]
  },
  {
   "cell_type": "code",
   "execution_count": 10,
   "metadata": {},
   "outputs": [
    {
     "name": "stdout",
     "output_type": "stream",
     "text": [
      "The error using check_grad function is 0.00022280363538457795 for the actual receptive field w\n"
     ]
    }
   ],
   "source": [
    "# insert your code here \n",
    "\n",
    "# ------------------------------------------\n",
    "# Estimate the receptive field by maximizing\n",
    "# the log-likelihood (or more commonly, \n",
    "# minimizing the negative log-likelihood).\n",
    "# \n",
    "# Tips: use scipy.optimize.minimize(). (1 pt)\n",
    "# ------------------------------------------\n",
    "\n",
    "from scipy.optimize import minimize, check_grad\n",
    "\n",
    "negloglik = lambda x: negloglike_lnp(x,c,s)[0]\n",
    "grad_negloglik = lambda x: negloglike_lnp(x,c,s)[1]\n",
    "\n",
    "error = check_grad(negloglik,grad_negloglik,w) # To check if gradient is calculated is right\n",
    "\n",
    "print(\"The error using check_grad function is {} for the actual receptive field w\".format(error))\n",
    "\n",
    "\n",
    "x0=np.random.randn(225) #inititalizing the values for receptive field\n",
    "w_cal = minimize(negloglik, x0, jac=grad_negloglik, method='BFGS')\n",
    "w_opt = w_cal.x"
   ]
  },
  {
   "cell_type": "code",
   "execution_count": 11,
   "metadata": {},
   "outputs": [
    {
     "data": {
      "text/plain": [
       "Text(0.5, 1.0, 'Estimated')"
      ]
     },
     "execution_count": 11,
     "metadata": {},
     "output_type": "execute_result"
    },
    {
     "data": {
      "image/png": "[encoded data removed]",
      "text/plain": [
       "<Figure size 1200x500 with 4 Axes>"
      ]
     },
     "metadata": {},
     "output_type": "display_data"
    }
   ],
   "source": [
    "# insert your code here \n",
    "\n",
    "# ------------------------------------\n",
    "# Plot the ground truth and estimated \n",
    "# `w` side by side. (0.5 pts)\n",
    "# ------------------------------------\n",
    "\n",
    "mosaic = [[\"True\", \"Estimated\"]]\n",
    "fig, ax = plt.subplot_mosaic(mosaic=mosaic, figsize=(12,5))\n",
    "\n",
    "# make sure to add a colorbar. 'bwr' is a reasonable choice for the cmap.\n",
    "\n",
    "ax[mosaic[0][0]].imshow(w.reshape((15,15)), cmap='gray')\n",
    "fig.colorbar(img, ax=ax[mosaic[0][0]], location='right',  shrink=0.7)\n",
    "ax[mosaic[0][0]].set_title(mosaic[0][0])\n",
    "\n",
    "\n",
    "ax[mosaic[0][1]].imshow(w_opt.reshape((15,15)), cmap='gray')\n",
    "fig.colorbar(img, ax=ax[mosaic[0][1]], location='right',  shrink=0.7)\n",
    "ax[mosaic[0][1]].set_title(mosaic[0][1])\n",
    "\n"
   ]
  },
  {
   "cell_type": "markdown",
   "metadata": {},
   "source": [
    "## Task 2: Apply to real neuron\n",
    "\n",
    "Download the dataset for this task from Ilias (`nds_cl_5_data.mat`). It contains a stimulus matrix (`s`) in the same format you used before and the spike times. In addition, there is an array called `trigger` which contains the times at which the stimulus frames were swapped.\n",
    "\n",
    "* Generate an array of spike counts at the same temporal resolution as the stimulus frames\n",
    "* Fit the receptive field with time lags of 0 to 4 frames. Fit them one lag at a time (the ML fit is very sensitive to the number of parameters estimated and will not produce good results if you fit the full space-time receptive field for more than two time lags at once). \n",
    "* Plot the resulting filters\n",
    "\n",
    "*Grading: 2 pts*\n"
   ]
  },
  {
   "cell_type": "code",
   "execution_count": 9,
   "metadata": {},
   "outputs": [],
   "source": [
    "var = io.loadmat('../data/nds_cl_5_data.mat')\n",
    "\n",
    "# t contains the spike times of the neuron\n",
    "t = var['DN_spiketimes'].flatten()    \n",
    "\n",
    "# trigger contains the times at which the stimulus flipped\n",
    "trigger = var['DN_triggertimes'].flatten()\n",
    "\n",
    "# contains the stimulus movie with black and white pixels\n",
    "s = var['DN_stim']\n",
    "s = s.reshape((300,1500)) # the shape of each frame is (20, 15)\n",
    "s = s[:,1:len(trigger)]"
   ]
  },
  {
   "cell_type": "markdown",
   "metadata": {},
   "source": [
    "Create vector of spike counts"
   ]
  },
  {
   "cell_type": "code",
   "execution_count": 10,
   "metadata": {},
   "outputs": [],
   "source": [
    "# insert your code here \n",
    "\n",
    "# ------------------------------------------\n",
    "# Bin the spike counts at the same temporal\n",
    "# resolution as the stimulus (0.5 pts)\n",
    "# ------------------------------------------"
   ]
  },
  {
   "cell_type": "markdown",
   "metadata": {},
   "source": [
    "Fit receptive field for each frame separately"
   ]
  },
  {
   "cell_type": "code",
   "execution_count": 11,
   "metadata": {},
   "outputs": [],
   "source": [
    "# insert your code here \n",
    "\n",
    "# ------------------------------------------\n",
    "# Fit the receptive field with time lags of\n",
    "# 0 to 4 frames separately (1 pt)\n",
    "# \n",
    "# The final receptive field (`w_hat`) should\n",
    "# be in the shape of (Dx * Dy, 5)\n",
    "# ------------------------------------------\n",
    "\n",
    "# specify the time lags\n",
    "delta = [0, 1, 2, 3, 4]\n",
    "\n",
    "# fit for each delay"
   ]
  },
  {
   "cell_type": "markdown",
   "metadata": {},
   "source": [
    "Plot the frames one by one"
   ]
  },
  {
   "cell_type": "code",
   "execution_count": null,
   "metadata": {},
   "outputs": [],
   "source": [
    "# insert your code here \n",
    "\n",
    "# --------------------------------------------\n",
    "# Plot all 5 frames of the fitted RFs (0.5 pt)\n",
    "# --------------------------------------------\n",
    "\n",
    "fig, ax = plt.subplot_mosaic(mosaic=[delta], figsize=(10,4), constrained_layout=True)\n"
   ]
  },
  {
   "cell_type": "markdown",
   "metadata": {},
   "source": [
    "## Task 3: Separate space/time components\n",
    "\n",
    "The receptive field of the neuron can be decomposed into a spatial and a temporal component. Because of the way we computed them, both are independent and the resulting spatio-temporal component is thus called separable. As discussed in the lecture, you can use singular-value decomposition to separate these two: \n",
    "\n",
    "$$\n",
    "W = u_1 s_1 v_1^T\n",
    "$$\n",
    "\n",
    "Here $u_1$ and $v_1$ are the singular vectors belonging to the 1st singular value $s_1$ and provide a long rank approximation of W, the array with all receptive fields. It is important that the mean is subtracted before computing the SVD.  \n",
    "\n",
    "Plot the first temporal component and the first spatial component. You can use a Python implementation of SVD. The results can look a bit puzzling, because the sign of the components is arbitrary.\n",
    "\n",
    "*Grading: 1 pts*"
   ]
  },
  {
   "cell_type": "code",
   "execution_count": null,
   "metadata": {},
   "outputs": [],
   "source": [
    "# insert your code here \n",
    "\n",
    "# --------------------------------------------\n",
    "# Apply SVD to the fitted receptive field,\n",
    "# you can use either numpy or sklearn (0.5 pt)\n",
    "# --------------------------------------------\n",
    "\n",
    "# shape of w_hat: (300,5). \n",
    "# subtract mean along axis=1 (time) since for every timelag the RF is estimated independently\n",
    "\n",
    "# -------------------------------------------------\n",
    "# Plot the spatial and temporal components (0.5 pt)\n",
    "# -------------------------------------------------\n",
    "\n",
    "fig, ax = plt.subplot_mosaic(mosaic=[['Spatial', 'Temporal']], figsize=(10,4), constrained_layout=True)\n",
    "# add plot\n"
   ]
  },
  {
   "cell_type": "markdown",
   "metadata": {},
   "source": [
    "## Task 4: Regularized receptive field\n",
    "\n",
    "As you can see, maximum likelihood estimation of linear receptive fields can be quite noisy, if little data is available. \n",
    "\n",
    "To improve on this, one can regularize the receptive field vector and a term to the cost function\n",
    "\n",
    "\n",
    "$$\n",
    "C(w) = L(w) + \\alpha ||w||_p^2\n",
    "$$\n",
    "\n",
    "Here, the $p$ indicates which norm of $w$ is used: for $p=2$, this is shrinks all coefficient equally to zero; for $p=1$, it favors sparse solutions, a penality also known as lasso. Because the 1-norm is not smooth at zero, it is not as straightforward to implement \"by hand\". \n",
    "\n",
    "Use a toolbox with an implementation of the lasso-penalization and fit the receptive field. Possibly, you will have to try different values of the regularization parameter $\\alpha$. Plot your estimates from above and the lasso-estimates. How do they differ? What happens when you increase or decrease $alpha$?\n",
    "\n",
    "If you want to keep the Poisson noise model, you can use the implementation in [`pyglmnet`](https://pypi.python.org/pypi/pyglmnet). Otherwise, you can also resort to the linear model from `sklearn` which assumes Gaussian noise (which in my hands was much faster).\n",
    "\n",
    "*Grading: 2 pts*\n"
   ]
  },
  {
   "cell_type": "code",
   "execution_count": 14,
   "metadata": {},
   "outputs": [],
   "source": [
    "from sklearn import linear_model\n",
    "\n",
    "# insert your code here \n",
    "\n",
    "# ------------------------------------------\n",
    "# Fit the receptive field with time lags of\n",
    "# 0 to 4 frames separately (the same as before) \n",
    "# with sklern or pyglmnet (1 pt)\n",
    "# ------------------------------------------\n",
    "\n",
    "delta = [0, 1, 2, 3, 4]\n"
   ]
  },
  {
   "cell_type": "code",
   "execution_count": null,
   "metadata": {},
   "outputs": [],
   "source": [
    "# ------------------------------------------\n",
    "# plot the estimated receptive fields (1 pt)\n",
    "# ------------------------------------------\n",
    "\n",
    "fig, ax = plt.subplot_mosaic(mosaic=[delta], figsize=(10,4), constrained_layout=True)\n",
    "# add plot"
   ]
  }
 ],
 "metadata": {
  "anaconda-cloud": {},
  "kernelspec": {
   "display_name": "Python 3 (ipykernel)",
   "language": "python",
   "name": "python3"
  },
  "language_info": {
   "codemirror_mode": {
    "name": "ipython",
    "version": 3
   },
   "file_extension": ".py",
   "mimetype": "text/x-python",
   "name": "python",
   "nbconvert_exporter": "python",
   "pygments_lexer": "ipython3",
   "version": "3.10.9"
  },
  "nteract": {
   "version": "0.13.0"
  }
 },
 "nbformat": 4,
 "nbformat_minor": 4
}
