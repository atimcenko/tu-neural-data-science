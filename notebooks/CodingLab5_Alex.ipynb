{
 "cells": [
  {
   "cell_type": "markdown",
   "metadata": {},
   "source": [
    "_Neural Data Analysis_\n",
    "\n",
    "Lecturer: Prof. Dr. Philipp Berens\n",
    "\n",
    "Tutors: Jonas Beck, Ziwei Huang, Rita González Márquez\n",
    "\n",
    "Summer term 2023\n",
    "\n",
    "Name: Aleksejs Timcenko, Ali Gholamzadeh\n",
    "\n",
    "# Coding Lab 5\n",
    "\n"
   ]
  },
  {
   "cell_type": "code",
   "execution_count": 1,
   "metadata": {},
   "outputs": [],
   "source": [
    "import matplotlib.pyplot as plt\n",
    "import numpy as np\n",
    "import scipy.optimize as opt\n",
    "import scipy.io as io\n",
    "from scipy import stats\n",
    "\n",
    "%matplotlib inline\n",
    "\n",
    "plt.style.use(\"../matplotlib_style.txt\")"
   ]
  },
  {
   "cell_type": "markdown",
   "metadata": {},
   "source": [
    "## Task 1: Fit RF on simulated data\n",
    "\n",
    "We will start  with toy data generated from an LNP model neuron to make sure everything works right. The model LNP neuron consists of one Gaussian linear filter, an exponential nonlinearity and a Poisson spike count generator. We look at it in discrete time with time bins of width $\\delta t$. The model is:\n",
    "\n",
    "$$\n",
    "c_t \\sim Poisson(r_t)\\\\\n",
    "r_t = \\exp(w^T s_t) \\cdot \\Delta t \\cdot R\n",
    "$$\n",
    "\n",
    "Here, $c_t$ is the spike count in time window $t$ of length $\\Delta t$, $s_t$ is the stimulus and $w$ is the receptive field of the neuron. The receptive field variable `w` is 15 × 15 pixels and normalized to $||w||=1$. A stimulus frame is a 15 × 15 pixel image, for which we use uncorrelated checkerboard noise. R can be used to bring the firing rate into the right regime (e.g. by setting $R=50$).      \n",
    "\n",
    "For computational ease, we reformat the stimulus and the receptive field in a 225 by 1 array. The function ```sample_lnp``` can be used to generate data from this model. It returns a spike count vector `c` with samples from the model (dimensions: 1 by nT = $T/\\Delta t$), a stimulus matrix `s` (dimensions: 225 × nT) and the mean firing rate `r` (dimensions: nT × 1). \n",
    "\n",
    "Here we assume that the receptive field influences the spike count instantaneously just as in the above equations. Implement a Maximum Likelihood approach to fit the receptive field. \n",
    "\n",
    "To this end simplify and implement the log-likelihood function $L(w)$ and its gradient $\\frac{L(w)}{dw}$ with respect to $w$ (`negloglike_lnp`). The log-likelihood of the model is\n",
    "$$L(w) = \\log \\prod_t \\frac{r_t^{c_t}}{c_t!}\\exp(-r_t).$$\n",
    "\n",
    "Plot the true receptive field, a stimulus frame, the spike counts and the estimated receptive field. \n",
    "\n",
    "*Grading: 2 pts (calculations) + 3 pts (implementation)*\n"
   ]
  },
  {
   "cell_type": "markdown",
   "metadata": {},
   "source": [
    "### Calculations\n",
    "_You can add your calculations in_ $\\LaTeX$ _here_.\n",
    "\n",
    "$L(\\omega) = \\sum_t \\left ( c_t log(r_t) - log(c_t!) - r_t \\right ) = \\sum_t \\left ( c_t \\cdot (\\omega^Ts_t + log(\\Delta t \\cdot R)) - log(c_t!) - exp(\\omega^T s_t) \\cdot \\Delta t \\cdot R \\right )$\n",
    "\n",
    "$\\frac{dL(\\omega)}{d\\omega} = \\sum_t c_t s_{t} - s_t exp(\\omega^T s_t) \\cdot \\Delta t \\cdot R  = \\sum_t s_t (c_t - r_t)$,\n",
    "\n",
    "where $s_t$ is a vector of stimulus and $c_t$ and $r_t$ are constants in a given time frame $t$."
   ]
  },
  {
   "cell_type": "markdown",
   "metadata": {},
   "source": [
    "### Generate data"
   ]
  },
  {
   "cell_type": "code",
   "execution_count": 11,
   "metadata": {},
   "outputs": [
    {
     "data": {
      "text/plain": [
       "Text(0.5, 1.0, 'Gaussian RF')"
      ]
     },
     "execution_count": 11,
     "metadata": {},
     "output_type": "execute_result"
    },
    {
     "data": {
      "image/png": "[encoded data removed]",
      "text/plain": [
       "<Figure size 500x500 with 1 Axes>"
      ]
     },
     "metadata": {},
     "output_type": "display_data"
    }
   ],
   "source": [
    "def gen_gauss_rf(D, width, center=(0,0)):\n",
    "    \n",
    "    sz = (D-1)/2\n",
    "    x, y = np.meshgrid(np.arange(-sz, sz + 1), np.arange(-sz, sz + 1))\n",
    "    x = x + center[0]\n",
    "    y = y + center[1]\n",
    "    w = np.exp(- (x ** 2/width + y ** 2 / width))\n",
    "    w = w / np.sum(w.flatten())\n",
    "    \n",
    "    return w\n",
    "\n",
    "w = gen_gauss_rf(15,7,(1,1))\n",
    "\n",
    "vlim = np.max(np.abs(w))\n",
    "fig, ax = plt.subplots(1,1,figsize=(5,5))\n",
    "ax.imshow(w, cmap='bwr', vmin=-vlim, vmax=vlim)\n",
    "ax.set_title('Gaussian RF')"
   ]
  },
  {
   "cell_type": "code",
   "execution_count": 24,
   "metadata": {},
   "outputs": [],
   "source": [
    "def sample_lnp(w, nT, dt, R, v):\n",
    "    \"\"\"Generate samples from an instantaneous LNP model neuron with\n",
    "    receptive field kernel w.\n",
    "\n",
    "    Parameters\n",
    "    ----------\n",
    "\n",
    "    w: np.array, (Dx * Dy, )\n",
    "        (flattened) receptive field kernel.\n",
    "\n",
    "    nT: int\n",
    "        number of time steps\n",
    "\n",
    "    dt: float\n",
    "        duration of a frame in s\n",
    "\n",
    "    R: float\n",
    "        rate parameter\n",
    "\n",
    "    v: float\n",
    "        variance of the stimulus\n",
    "\n",
    "    Returns\n",
    "    -------\n",
    "\n",
    "    c: np.array, (nT, )\n",
    "        sampled spike counts in time bins\n",
    "\n",
    "    r: np.array, (nT, )\n",
    "        mean rate in time bins\n",
    "\n",
    "    s: np.array, (Dx * Dy, nT)\n",
    "        stimulus frames used\n",
    "\n",
    "    Note\n",
    "    ----\n",
    "\n",
    "    See equations in task description above for a precise definition\n",
    "    of the individual parameters.\n",
    "\n",
    "    \"\"\"\n",
    "\n",
    "    np.random.seed(10)\n",
    "\n",
    "    # insert your code here\n",
    "    \n",
    "    stim_size = len(w)\n",
    "    \n",
    "    \n",
    "    # 1. generate stimulus as uncorrelated checkerboard noise\n",
    "    stim = stats.norm.rvs(size=(stim_size, nT))\n",
    "    \n",
    "    # 2. get poisson rate parameter in a given time bin\n",
    "    rate = (np.exp(w[np.newaxis, :] @ stim) * R * dt).flatten()\n",
    "    \n",
    "    # 3. sample poisson spike counts in a bin\n",
    "    # the function will generate one sample for each rate in the vector rate\n",
    "    counts = stats.poisson(mu=rate).rvs()\n",
    "\n",
    "    # ------------------------------------------------\n",
    "    # Generate samples from an instantaneous LNP model\n",
    "    # neuron with receptive field kernel w. (0.5 pts)\n",
    "    # ------------------------------------------------\n",
    "    \n",
    "    return counts, rate, stim"
   ]
  },
  {
   "cell_type": "code",
   "execution_count": 8,
   "metadata": {},
   "outputs": [
    {
     "data": {
      "text/plain": [
       "array([  3,   1,   4,  93, 102,  87])"
      ]
     },
     "execution_count": 8,
     "metadata": {},
     "output_type": "execute_result"
    }
   ],
   "source": [
    "stats.poisson(mu=[1, 1, 1, 100, 100, 100]).rvs()"
   ]
  },
  {
   "cell_type": "code",
   "execution_count": 21,
   "metadata": {},
   "outputs": [],
   "source": [
    "D = 15     # number of pixels\n",
    "nT = 1000  # number of time bins\n",
    "dt = 0.1   # bins of 100 ms\n",
    "R = 50     # firing rate in Hz \n",
    "v = 5      # stimulus variance\n",
    "\n",
    "w = gen_gauss_rf(D,7,(1,1))\n",
    "w = w.flatten()\n",
    "\n",
    "c, r, s = sample_lnp(w, nT, dt, R, v)"
   ]
  },
  {
   "cell_type": "code",
   "execution_count": 22,
   "metadata": {},
   "outputs": [
    {
     "data": {
      "text/plain": [
       "(1000,)"
      ]
     },
     "execution_count": 22,
     "metadata": {},
     "output_type": "execute_result"
    }
   ],
   "source": [
    "r.shape"
   ]
  },
  {
   "cell_type": "markdown",
   "metadata": {},
   "source": [
    "Plot the responses of the cell.\n",
    "\n",
    "*Very specific task description, thank you so much!*"
   ]
  },
  {
   "cell_type": "code",
   "execution_count": null,
   "metadata": {},
   "outputs": [],
   "source": [
    "mosaic = \"ABC\"\n",
    "\n",
    "fig, ax = plt.subplot_mosaic(mosaic=mosaic, figsize=(15,4))\n",
    "# --------------------------------------\n",
    "# Plot the cell's responses (0.5 points)\n",
    "# --------------------------------------\n",
    "\n",
    "# plot the stimulus grid only for one frame"
   ]
  },
  {
   "cell_type": "code",
   "execution_count": 23,
   "metadata": {},
   "outputs": [
    {
     "data": {
      "text/plain": [
       "[<matplotlib.lines.Line2D at 0x238d3f13c70>]"
      ]
     },
     "execution_count": 23,
     "metadata": {},
     "output_type": "execute_result"
    },
    {
     "data": {
      "image/png": "[encoded data removed]",
      "text/plain": [
       "<Figure size 720x360 with 1 Axes>"
      ]
     },
     "metadata": {},
     "output_type": "display_data"
    }
   ],
   "source": [
    "plt.plot(r)"
   ]
  },
  {
   "cell_type": "code",
   "execution_count": 17,
   "metadata": {},
   "outputs": [
    {
     "data": {
      "text/plain": [
       "<matplotlib.image.AxesImage at 0x238d3c01100>"
      ]
     },
     "execution_count": 17,
     "metadata": {},
     "output_type": "execute_result"
    },
    {
     "data": {
      "image/png": "[encoded data removed]",
      "text/plain": [
       "<Figure size 720x360 with 1 Axes>"
      ]
     },
     "metadata": {},
     "output_type": "display_data"
    }
   ],
   "source": [
    "plt.imshow(s[:, 0].reshape((D, D)), cmap='gray')"
   ]
  },
  {
   "cell_type": "markdown",
   "metadata": {
    "tags": []
   },
   "source": [
    "### Implementation \n",
    "\n",
    "Before you run your optimizer, make sure the gradient is correct. The helper function `check_grad` in `scipy.optimize` can help you do that. This package also has suitable functions for optimization. If you generate a large number of  samples, the fitted receptive field will look more similar to the true receptive field. With more samples, the optimization takes longer, however."
   ]
  },
  {
   "cell_type": "markdown",
   "metadata": {},
   "source": [
    "### Calculations\n",
    "_You can add your calculations in_ $\\LaTeX$ _here_.\n",
    "\n",
    "$L(\\omega) = \\sum_t \\left ( c_t log(r_t) - log(c_t!) - r_t \\right ) = \\sum_t \\left ( c_t \\cdot (\\omega^Ts_t + log(\\Delta t \\cdot R)) - log(c_t!) - exp(\\omega^T s_t) \\cdot \\Delta t \\cdot R \\right )$\n",
    "\n",
    "$\\frac{dL(\\omega)}{d\\omega} = \\sum_t c_t s_{t} - s_t exp(\\omega^T s_t) \\cdot \\Delta t \\cdot R  = \\sum_t s_t (c_t - r_t)$,\n",
    "\n",
    "where $s_t$ is a vector of stimulus and $c_t$ and $r_t$ are constants in a given time frame $t$."
   ]
  },
  {
   "cell_type": "code",
   "execution_count": 29,
   "metadata": {},
   "outputs": [],
   "source": [
    "def negloglike_lnp(x, c, s, dt=0.1, R=50):\n",
    "    '''Implements the negative (!) log-likelihood of the LNP model and its\n",
    "    gradient with respect to the receptive field w.\n",
    "\n",
    "    Parameters\n",
    "    ----------\n",
    "\n",
    "    x: np.array, (Dx * Dy, )\n",
    "      current receptive field \n",
    "\n",
    "    c: np.array, (nT, )\n",
    "      spike counts \n",
    "\n",
    "    s: np.array, (Dx * Dy, nT)\n",
    "      stimulus matrix\n",
    "\n",
    "\n",
    "    Returns\n",
    "    -------\n",
    "\n",
    "    f: float\n",
    "      function value of the negative log likelihood at x\n",
    "    \n",
    "    df: np.array, (Dx * Dy, )\n",
    "      gradient of the negative log likelihood with respect to x \n",
    "    '''\n",
    "        # insert your code here \n",
    "\n",
    "    # ------------------------------------------------\n",
    "    # Implement the negative log-likelihood of the LNP\n",
    "    # and its gradient with respect to the receptive\n",
    "    # field `w` using the simplified equantions you\n",
    "    # calculated earlier. (0.5 pts)\n",
    "    # ------------------------------------------------\n",
    "    \n",
    "    r = (np.exp(x[np.newaxis, :] @ s) * R * dt).flatten() \n",
    "    f = (c * np.log(r) - np.log(np.math.factorial(c)) - r).sum() * (-1)\n",
    "\n",
    "    # using numpy broadcasting each row of s is multiplied by different (c - r)\n",
    "    df = (-s @ (c - r)[:, np.newaxis]).flatten()\n",
    "    # flattening is done since singleton dimensions are introduced by making row and column vectors\n",
    "    \n",
    "    return f, df\n"
   ]
  },
  {
   "cell_type": "markdown",
   "metadata": {},
   "source": [
    "Fit receptive field maximizing the log likelihood"
   ]
  },
  {
   "cell_type": "code",
   "execution_count": 7,
   "metadata": {},
   "outputs": [],
   "source": [
    "# insert your code here \n",
    "\n",
    "# ------------------------------------------\n",
    "# Estimate the receptive field by maximizing\n",
    "# the log-likelihood (or more commonly, \n",
    "# minimizing the negative log-likelihood).\n",
    "# \n",
    "# Tips: use scipy.optimize.minimize(). (1 pt)\n",
    "# ------------------------------------------"
   ]
  },
  {
   "cell_type": "code",
   "execution_count": null,
   "metadata": {},
   "outputs": [],
   "source": [
    "# insert your code here \n",
    "\n",
    "# ------------------------------------\n",
    "# Plot the ground truth and estimated \n",
    "# `w` side by side. (0.5 pts)\n",
    "# ------------------------------------\n",
    "\n",
    "mosaic = [[\"True\", \"Estimated\"]]\n",
    "fig, ax = plt.subplot_mosaic(mosaic=mosaic, figsize=(12,5))\n",
    "\n",
    "# make sure to add a colorbar. 'bwr' is a reasonable choice for the cmap."
   ]
  },
  {
   "cell_type": "markdown",
   "metadata": {},
   "source": [
    "## Task 2: Apply to real neuron\n",
    "\n",
    "Download the dataset for this task from Ilias (`nds_cl_5_data.mat`). It contains a stimulus matrix (`s`) in the same format you used before and the spike times. In addition, there is an array called `trigger` which contains the times at which the stimulus frames were swapped.\n",
    "\n",
    "* Generate an array of spike counts at the same temporal resolution as the stimulus frames\n",
    "* Fit the receptive field with time lags of 0 to 4 frames. Fit them one lag at a time (the ML fit is very sensitive to the number of parameters estimated and will not produce good results if you fit the full space-time receptive field for more than two time lags at once). \n",
    "* Plot the resulting filters\n",
    "\n",
    "*Grading: 2 pts*\n"
   ]
  },
  {
   "cell_type": "code",
   "execution_count": 9,
   "metadata": {},
   "outputs": [],
   "source": [
    "var = io.loadmat('../data/nds_cl_5_data.mat')\n",
    "\n",
    "# t contains the spike times of the neuron\n",
    "t = var['DN_spiketimes'].flatten()    \n",
    "\n",
    "# trigger contains the times at which the stimulus flipped\n",
    "trigger = var['DN_triggertimes'].flatten()\n",
    "\n",
    "# contains the stimulus movie with black and white pixels\n",
    "s = var['DN_stim']\n",
    "s = s.reshape((300,1500)) # the shape of each frame is (20, 15)\n",
    "s = s[:,1:len(trigger)]"
   ]
  },
  {
   "cell_type": "markdown",
   "metadata": {},
   "source": [
    "Create vector of spike counts"
   ]
  },
  {
   "cell_type": "code",
   "execution_count": 10,
   "metadata": {},
   "outputs": [],
   "source": [
    "# insert your code here \n",
    "\n",
    "# ------------------------------------------\n",
    "# Bin the spike counts at the same temporal\n",
    "# resolution as the stimulus (0.5 pts)\n",
    "# ------------------------------------------"
   ]
  },
  {
   "cell_type": "markdown",
   "metadata": {},
   "source": [
    "Fit receptive field for each frame separately"
   ]
  },
  {
   "cell_type": "code",
   "execution_count": 11,
   "metadata": {},
   "outputs": [],
   "source": [
    "# insert your code here \n",
    "\n",
    "# ------------------------------------------\n",
    "# Fit the receptive field with time lags of\n",
    "# 0 to 4 frames separately (1 pt)\n",
    "# \n",
    "# The final receptive field (`w_hat`) should\n",
    "# be in the shape of (Dx * Dy, 5)\n",
    "# ------------------------------------------\n",
    "\n",
    "# specify the time lags\n",
    "delta = [0, 1, 2, 3, 4]\n",
    "\n",
    "# fit for each delay"
   ]
  },
  {
   "cell_type": "markdown",
   "metadata": {},
   "source": [
    "Plot the frames one by one"
   ]
  },
  {
   "cell_type": "code",
   "execution_count": null,
   "metadata": {},
   "outputs": [],
   "source": [
    "# insert your code here \n",
    "\n",
    "# --------------------------------------------\n",
    "# Plot all 5 frames of the fitted RFs (0.5 pt)\n",
    "# --------------------------------------------\n",
    "\n",
    "fig, ax = plt.subplot_mosaic(mosaic=[delta], figsize=(10,4), constrained_layout=True)\n"
   ]
  },
  {
   "cell_type": "markdown",
   "metadata": {},
   "source": [
    "## Task 3: Separate space/time components\n",
    "\n",
    "The receptive field of the neuron can be decomposed into a spatial and a temporal component. Because of the way we computed them, both are independent and the resulting spatio-temporal component is thus called separable. As discussed in the lecture, you can use singular-value decomposition to separate these two: \n",
    "\n",
    "$$\n",
    "W = u_1 s_1 v_1^T\n",
    "$$\n",
    "\n",
    "Here $u_1$ and $v_1$ are the singular vectors belonging to the 1st singular value $s_1$ and provide a long rank approximation of W, the array with all receptive fields. It is important that the mean is subtracted before computing the SVD.  \n",
    "\n",
    "Plot the first temporal component and the first spatial component. You can use a Python implementation of SVD. The results can look a bit puzzling, because the sign of the components is arbitrary.\n",
    "\n",
    "*Grading: 1 pts*"
   ]
  },
  {
   "cell_type": "code",
   "execution_count": null,
   "metadata": {},
   "outputs": [],
   "source": [
    "# insert your code here \n",
    "\n",
    "# --------------------------------------------\n",
    "# Apply SVD to the fitted receptive field,\n",
    "# you can use either numpy or sklearn (0.5 pt)\n",
    "# --------------------------------------------\n",
    "\n",
    "# shape of w_hat: (300,5). \n",
    "# subtract mean along axis=1 (time) since for every timelag the RF is estimated independently\n",
    "\n",
    "# -------------------------------------------------\n",
    "# Plot the spatial and temporal components (0.5 pt)\n",
    "# -------------------------------------------------\n",
    "\n",
    "fig, ax = plt.subplot_mosaic(mosaic=[['Spatial', 'Temporal']], figsize=(10,4), constrained_layout=True)\n",
    "# add plot\n"
   ]
  },
  {
   "cell_type": "markdown",
   "metadata": {},
   "source": [
    "## Task 4: Regularized receptive field\n",
    "\n",
    "As you can see, maximum likelihood estimation of linear receptive fields can be quite noisy, if little data is available. \n",
    "\n",
    "To improve on this, one can regularize the receptive field vector and a term to the cost function\n",
    "\n",
    "\n",
    "$$\n",
    "C(w) = L(w) + \\alpha ||w||_p^2\n",
    "$$\n",
    "\n",
    "Here, the $p$ indicates which norm of $w$ is used: for $p=2$, this is shrinks all coefficient equally to zero; for $p=1$, it favors sparse solutions, a penality also known as lasso. Because the 1-norm is not smooth at zero, it is not as straightforward to implement \"by hand\". \n",
    "\n",
    "Use a toolbox with an implementation of the lasso-penalization and fit the receptive field. Possibly, you will have to try different values of the regularization parameter $\\alpha$. Plot your estimates from above and the lasso-estimates. How do they differ? What happens when you increase or decrease $alpha$?\n",
    "\n",
    "If you want to keep the Poisson noise model, you can use the implementation in [`pyglmnet`](https://pypi.python.org/pypi/pyglmnet). Otherwise, you can also resort to the linear model from `sklearn` which assumes Gaussian noise (which in my hands was much faster).\n",
    "\n",
    "*Grading: 2 pts*\n"
   ]
  },
  {
   "cell_type": "code",
   "execution_count": 14,
   "metadata": {},
   "outputs": [],
   "source": [
    "from sklearn import linear_model\n",
    "\n",
    "# insert your code here \n",
    "\n",
    "# ------------------------------------------\n",
    "# Fit the receptive field with time lags of\n",
    "# 0 to 4 frames separately (the same as before) \n",
    "# with sklern or pyglmnet (1 pt)\n",
    "# ------------------------------------------\n",
    "\n",
    "delta = [0, 1, 2, 3, 4]\n"
   ]
  },
  {
   "cell_type": "code",
   "execution_count": null,
   "metadata": {},
   "outputs": [],
   "source": [
    "# ------------------------------------------\n",
    "# plot the estimated receptive fields (1 pt)\n",
    "# ------------------------------------------\n",
    "\n",
    "fig, ax = plt.subplot_mosaic(mosaic=[delta], figsize=(10,4), constrained_layout=True)\n",
    "# add plot"
   ]
  }
 ],
 "metadata": {
  "anaconda-cloud": {},
  "kernelspec": {
   "display_name": "Python 3 (ipykernel)",
   "language": "python",
   "name": "python3"
  },
  "language_info": {
   "codemirror_mode": {
    "name": "ipython",
    "version": 3
   },
   "file_extension": ".py",
   "mimetype": "text/x-python",
   "name": "python",
   "nbconvert_exporter": "python",
   "pygments_lexer": "ipython3",
   "version": "3.9.12"
  },
  "nteract": {
   "version": "0.13.0"
  }
 },
 "nbformat": 4,
 "nbformat_minor": 4
}
